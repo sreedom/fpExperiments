{
 "cells": [
  {
   "cell_type": "markdown",
   "metadata": {
    "deletable": true,
    "editable": true,
    "slideshow": {
     "slide_type": "slide"
    }
   },
   "source": [
    "# Functional Programming \n",
    "## What, Why and How\n",
    "\n",
    "We will try to explain the first principles of functional programming by trying as much as possible to avoid big FP words.\n",
    "\n",
    "We will use python for this exercise, because it's easy to read; and it provides all the functional features required for understanding concepts described in this document."
   ]
  },
  {
   "cell_type": "markdown",
   "metadata": {
    "deletable": true,
    "editable": true,
    "slideshow": {
     "slide_type": "slide"
    }
   },
   "source": [
    "# A simple problem\n",
    "\n",
    "## Count the number of words in a large file\n",
    "\n",
    "You have a file which may have millions of lines. we need to count the number of words on the file."
   ]
  },
  {
   "cell_type": "markdown",
   "metadata": {
    "deletable": true,
    "editable": true,
    "slideshow": {
     "slide_type": "slide"
    }
   },
   "source": [
    "### A simple solution"
   ]
  },
  {
   "cell_type": "code",
   "execution_count": 6,
   "metadata": {
    "collapsed": false,
    "deletable": true,
    "editable": true,
    "slideshow": {
     "slide_type": "fragment"
    }
   },
   "outputs": [],
   "source": [
    "def count_w(filename):\n",
    "    count = 0\n",
    "    offset = 0\n",
    "    file = open(filenames)\n",
    "    for line in file:\n",
    "        for w in line.split():\n",
    "            count += 1\n",
    "    return count\n",
    "# But This Doesnt Scale!"
   ]
  },
  {
   "cell_type": "markdown",
   "metadata": {
    "deletable": true,
    "editable": true,
    "slideshow": {
     "slide_type": "slide"
    }
   },
   "source": [
    "When things don't scale,\n",
    "![title](img/parallel.jpg)"
   ]
  },
  {
   "cell_type": "markdown",
   "metadata": {
    "deletable": true,
    "editable": true,
    "slideshow": {
     "slide_type": "slide"
    }
   },
   "source": [
    "Lets try the same example with Threads"
   ]
  },
  {
   "cell_type": "code",
   "execution_count": 2,
   "metadata": {
    "collapsed": true,
    "deletable": true,
    "editable": true,
    "slideshow": {
     "slide_type": "fragment"
    }
   },
   "outputs": [],
   "source": [
    "count = 0\n",
    "\n",
    "def count_w_chunk(file_chunk):\n",
    "    global count\n",
    "    count = 0\n",
    "    offset = 0\n",
    "    file = open(filenames)\n",
    "    for line in file:\n",
    "        for w in line.split():\n",
    "            count += 1\n",
    "\n",
    "#actual driver code\n",
    "def count_w(file):\n",
    "    threads = [] # empty thread list\n",
    "    chunks = file.make_chunks()\n",
    "    # magic function parallelize\n",
    "    for chunk in chunks:\n",
    "        parallelize(count_w_chunks(chunk))\n",
    "    print (count)\n"
   ]
  },
  {
   "cell_type": "markdown",
   "metadata": {
    "deletable": true,
    "editable": true,
    "slideshow": {
     "slide_type": "slide"
    }
   },
   "source": [
    "# But the code doesn't work!\n",
    "## Race Conditions\n",
    "\n",
    "Lets take a simpler example"
   ]
  },
  {
   "cell_type": "code",
   "execution_count": 3,
   "metadata": {
    "collapsed": true,
    "deletable": true,
    "editable": true,
    "slideshow": {
     "slide_type": "slide"
    }
   },
   "outputs": [],
   "source": [
    "count = 0\n",
    "def increment(delta):\n",
    "    global count\n",
    "    temp = count\n",
    "    temp += delta\n",
    "    count = temp\n",
    "    return count\n",
    "\n",
    "# what will happen if increment(1) is run parallelly 1000 times ?"
   ]
  },
  {
   "cell_type": "markdown",
   "metadata": {
    "deletable": true,
    "editable": true,
    "slideshow": {
     "slide_type": "fragment"
    }
   },
   "source": [
    "The result will be less than 1000 most of the time.\n",
    "We will need some sort of locking/synchronization mechanism to avoid writing the same value to the variable over and over again."
   ]
  },
  {
   "cell_type": "code",
   "execution_count": 4,
   "metadata": {
    "collapsed": true,
    "deletable": true,
    "editable": true,
    "slideshow": {
     "slide_type": "slide"
    }
   },
   "outputs": [],
   "source": [
    "# this will work, but sucks\n",
    "count = 0\n",
    "def increment(delta):\n",
    "    global count\n",
    "    with synchronized(count):\n",
    "        count += delta\n",
    "    return count\n"
   ]
  },
  {
   "cell_type": "markdown",
   "metadata": {
    "deletable": true,
    "editable": true,
    "slideshow": {
     "slide_type": "fragment"
    }
   },
   "source": [
    "The culprit in the above code is the assignment. Re-assignment to be precise. Once initialized, a `variable` can have different values at different times, depending on what we are `assigning` to it.\n",
    "If we had code that did not change the `state` of `count` variable, we would'nt need to synchronize the assignments."
   ]
  },
  {
   "cell_type": "markdown",
   "metadata": {
    "deletable": true,
    "editable": true,
    "slideshow": {
     "slide_type": "slide"
    }
   },
   "source": [
    "# Principle 1\n",
    "## Avoid shared state change wherever possible"
   ]
  },
  {
   "cell_type": "markdown",
   "metadata": {
    "deletable": true,
    "editable": true,
    "slideshow": {
     "slide_type": "slide"
    }
   },
   "source": [
    "# Functions with Side Effects\n",
    "\n",
    "When a function changes it `state` while it's being executed, and the `state` change is persisted between execution.\n",
    "Put simply but inaccurately, if a function might different values while invoking it with the same parameters\n",
    "\n",
    "#### Note\n",
    "Functions that changes `state` outside it's scope also cause side effects. For example,\n",
    "```code\n",
    "def foo():\n",
    "    with open('filename', 'a') as f:\n",
    "        f.write('side effect')\n",
    "    return 0\n",
    "```\n",
    "The above function returns 0 all the time, but still changes the `state` of the file system"
   ]
  },
  {
   "cell_type": "markdown",
   "metadata": {
    "deletable": true,
    "editable": true,
    "slideshow": {
     "slide_type": "slide"
    }
   },
   "source": [
    "# What is a function?\n",
    "### We have functions in Mathematics \n",
    "\n",
    "```math\n",
    "f(x) = x^2 + 2x + 3\n",
    "```\n",
    "\n",
    "They do no state manipulation. f(25) is 678 no matter how many times you call it.\n",
    "These kind of functions are called `pure` functions.\n",
    "\n",
    "Read more about pure functions [here](https://en.wikipedia.org/wiki/Pure_function)\n",
    "\n",
    "While you are at it, read about [referential transparency](https://en.wikipedia.org/wiki/Referential_transparency)\n",
    "\n",
    "Its okay if you don't get it.\n"
   ]
  },
  {
   "cell_type": "code",
   "execution_count": 5,
   "metadata": {
    "collapsed": true,
    "deletable": true,
    "editable": true,
    "slideshow": {
     "slide_type": "slide"
    }
   },
   "outputs": [],
   "source": [
    "# Modeling a 'pure' function\n",
    "def f(x):\n",
    "    return x*x + 2*x + 3"
   ]
  },
  {
   "cell_type": "code",
   "execution_count": 25,
   "metadata": {
    "collapsed": false,
    "deletable": true,
    "editable": true,
    "slideshow": {
     "slide_type": "subslide"
    }
   },
   "outputs": [
    {
     "data": {
      "text/plain": [
       "102"
      ]
     },
     "execution_count": 25,
     "metadata": {},
     "output_type": "execute_result"
    }
   ],
   "source": [
    "f(9)"
   ]
  },
  {
   "cell_type": "markdown",
   "metadata": {
    "deletable": true,
    "editable": true,
    "slideshow": {
     "slide_type": "slide"
    }
   },
   "source": [
    "# Say NO to Mutations"
   ]
  },
  {
   "cell_type": "markdown",
   "metadata": {
    "deletable": true,
    "editable": true,
    "slideshow": {
     "slide_type": "slide"
    }
   },
   "source": [
    "# Imagine a world without assignments\n",
    "\n",
    "* No mutations no race conditions\n",
    "* Free parallelism\n",
    "* Modular code\n",
    "* Mathematical reasonability\n",
    "* Your IDE can tell you if your code is right"
   ]
  },
  {
   "cell_type": "markdown",
   "metadata": {
    "deletable": true,
    "editable": true,
    "slideshow": {
     "slide_type": "slide"
    }
   },
   "source": [
    "# some fun with fun-ctions\n",
    "#### I do not apologize for my puns"
   ]
  },
  {
   "cell_type": "code",
   "execution_count": 7,
   "metadata": {
    "collapsed": false,
    "deletable": true,
    "editable": true,
    "slideshow": {
     "slide_type": "skip"
    }
   },
   "outputs": [],
   "source": [
    "# frange(0,1,0.1) == [0, .1, .2, .3, .4 ... .9]\n",
    "def frange(a,b,delta):\n",
    "    i = a\n",
    "    while i < b:\n",
    "        yield i\n",
    "        i += delta\n",
    "        \n",
    "# yes there are assignments in the above code, they are avoidable using recursion"
   ]
  },
  {
   "cell_type": "code",
   "execution_count": 8,
   "metadata": {
    "collapsed": true,
    "deletable": true,
    "editable": true,
    "slideshow": {
     "slide_type": "slide"
    }
   },
   "outputs": [],
   "source": [
    "# integration; approximation of area under the curve. for more accurate value, reduce the value of err\n",
    "def integ(f, a,b):\n",
    "    err = 0.01\n",
    "    return sum( [f(x) * err for x in frange(a,b,err)]\n",
    "    )\n"
   ]
  },
  {
   "cell_type": "code",
   "execution_count": 9,
   "metadata": {
    "collapsed": false,
    "deletable": true,
    "editable": true,
    "slideshow": {
     "slide_type": "subslide"
    }
   },
   "outputs": [
    {
     "data": {
      "text/plain": [
       "2.646700000000006"
      ]
     },
     "execution_count": 9,
     "metadata": {},
     "output_type": "execute_result"
    }
   ],
   "source": [
    "def square(x):\n",
    "    return x*x\n",
    "\n",
    "integ(square, 0, 2)"
   ]
  },
  {
   "cell_type": "code",
   "execution_count": 10,
   "metadata": {
    "collapsed": true,
    "deletable": true,
    "editable": true,
    "slideshow": {
     "slide_type": "slide"
    }
   },
   "outputs": [],
   "source": [
    "# functions returning functions\n",
    "\n",
    "def add_value(value):\n",
    "    def adder(x):\n",
    "        return x + value\n",
    "    return adder"
   ]
  },
  {
   "cell_type": "code",
   "execution_count": 11,
   "metadata": {
    "collapsed": false,
    "deletable": true,
    "editable": true,
    "slideshow": {
     "slide_type": "subslide"
    }
   },
   "outputs": [],
   "source": [
    "add5 = add_value(5)"
   ]
  },
  {
   "cell_type": "code",
   "execution_count": 12,
   "metadata": {
    "collapsed": false,
    "deletable": true,
    "editable": true,
    "slideshow": {
     "slide_type": "subslide"
    }
   },
   "outputs": [
    {
     "data": {
      "text/plain": [
       "27"
      ]
     },
     "execution_count": 12,
     "metadata": {},
     "output_type": "execute_result"
    }
   ],
   "source": [
    "add5(22)"
   ]
  },
  {
   "cell_type": "markdown",
   "metadata": {
    "deletable": true,
    "editable": true,
    "slideshow": {
     "slide_type": "slide"
    }
   },
   "source": [
    "  ### A note about Lambda\n",
    "  \n",
    "  lambda lets you write functions similar to mathematical expressions. It saves mind-space in remembering definitions, and sometimes makes statements more readable.\n",
    "  \n",
    "As a rule of thumb, use lambdas if the return value is a simple expression"
   ]
  },
  {
   "cell_type": "code",
   "execution_count": 13,
   "metadata": {
    "collapsed": false,
    "deletable": true,
    "editable": true,
    "slideshow": {
     "slide_type": "fragment"
    }
   },
   "outputs": [
    {
     "data": {
      "text/plain": [
       "<function __main__.<lambda>>"
      ]
     },
     "execution_count": 13,
     "metadata": {},
     "output_type": "execute_result"
    }
   ],
   "source": [
    "def square(x):\n",
    "    return x*x\n",
    "\n",
    "# is the same as\n",
    "lambda x: x*x\n"
   ]
  },
  {
   "cell_type": "code",
   "execution_count": 14,
   "metadata": {
    "collapsed": false,
    "deletable": true,
    "editable": true,
    "slideshow": {
     "slide_type": "slide"
    }
   },
   "outputs": [],
   "source": [
    "# functions taking functions as argument\n",
    "\n",
    "def fogger(f,g):\n",
    "    def fog(x):\n",
    "        return f(g(x))\n",
    "    return fog"
   ]
  },
  {
   "cell_type": "code",
   "execution_count": 15,
   "metadata": {
    "collapsed": false,
    "deletable": true,
    "editable": true,
    "slideshow": {
     "slide_type": "subslide"
    }
   },
   "outputs": [
    {
     "data": {
      "text/plain": [
       "31"
      ]
     },
     "execution_count": 15,
     "metadata": {},
     "output_type": "execute_result"
    }
   ],
   "source": [
    "def add6(x):\n",
    "    return x + 6\n",
    "\n",
    "new_function = fogger (add6, add5)\n",
    "new_function(20)"
   ]
  },
  {
   "cell_type": "markdown",
   "metadata": {
    "deletable": true,
    "editable": true,
    "slideshow": {
     "slide_type": "slide"
    }
   },
   "source": [
    "# Map Reduce & Filter"
   ]
  },
  {
   "cell_type": "code",
   "execution_count": 16,
   "metadata": {
    "collapsed": false,
    "deletable": true,
    "editable": true,
    "slideshow": {
     "slide_type": "slide"
    }
   },
   "outputs": [
    {
     "data": {
      "text/plain": [
       "[1, 4, 9, 16, 25, 36]"
      ]
     },
     "execution_count": 16,
     "metadata": {},
     "output_type": "execute_result"
    }
   ],
   "source": [
    "# map(funct, list) --> new list\n",
    "# applies the funct on each element of the list and returns a new list\n",
    "def square(x):\n",
    "    return x*x\n",
    "map(square, [1,2,3,4,5,6])"
   ]
  },
  {
   "cell_type": "code",
   "execution_count": 17,
   "metadata": {
    "collapsed": false,
    "deletable": true,
    "editable": true,
    "slideshow": {
     "slide_type": "slide"
    }
   },
   "outputs": [
    {
     "data": {
      "text/plain": [
       "[1, 4, 9, 16, 25, 36]"
      ]
     },
     "execution_count": 17,
     "metadata": {},
     "output_type": "execute_result"
    }
   ],
   "source": [
    "# lambdas are useful in one-liners like these\n",
    "map(lambda x: x*x, [1,2,3,4,5,6])"
   ]
  },
  {
   "cell_type": "code",
   "execution_count": 18,
   "metadata": {
    "collapsed": false,
    "deletable": true,
    "editable": true,
    "slideshow": {
     "slide_type": "slide"
    }
   },
   "outputs": [
    {
     "data": {
      "text/plain": [
       "15"
      ]
     },
     "execution_count": 18,
     "metadata": {},
     "output_type": "execute_result"
    }
   ],
   "source": [
    "# reduce(func, list) -- > new value\n",
    "# reduces a list to a single value by combining elements (left to right) using func\n",
    "reduce(lambda x,y: x + y , [1,2,3,4,5])"
   ]
  },
  {
   "cell_type": "code",
   "execution_count": 19,
   "metadata": {
    "collapsed": false,
    "deletable": true,
    "editable": true,
    "slideshow": {
     "slide_type": "slide"
    }
   },
   "outputs": [
    {
     "data": {
      "text/plain": [
       "40"
      ]
     },
     "execution_count": 19,
     "metadata": {},
     "output_type": "execute_result"
    }
   ],
   "source": [
    "# reduce can also take an inital value to start with\n",
    "reduce(lambda x,y: x + y , [1,2,3,4,5], 25)"
   ]
  },
  {
   "cell_type": "code",
   "execution_count": 20,
   "metadata": {
    "collapsed": false,
    "deletable": true,
    "editable": true,
    "slideshow": {
     "slide_type": "slide"
    }
   },
   "outputs": [
    {
     "data": {
      "text/plain": [
       "2"
      ]
     },
     "execution_count": 20,
     "metadata": {},
     "output_type": "execute_result"
    }
   ],
   "source": [
    "reduce (lambda x, y: x / y, [4,2,1]) # ((4/2) / 1 )\n"
   ]
  },
  {
   "cell_type": "code",
   "execution_count": 21,
   "metadata": {
    "collapsed": false,
    "deletable": true,
    "editable": true,
    "slideshow": {
     "slide_type": "skip"
    }
   },
   "outputs": [
    {
     "name": "stdout",
     "output_type": "stream",
     "text": [
      "Help on built-in function reduce in module __builtin__:\n",
      "\n",
      "reduce(...)\n",
      "    reduce(function, sequence[, initial]) -> value\n",
      "    \n",
      "    Apply a function of two arguments cumulatively to the items of a sequence,\n",
      "    from left to right, so as to reduce the sequence to a single value.\n",
      "    For example, reduce(lambda x, y: x+y, [1, 2, 3, 4, 5]) calculates\n",
      "    ((((1+2)+3)+4)+5).  If initial is present, it is placed before the items\n",
      "    of the sequence in the calculation, and serves as a default when the\n",
      "    sequence is empty.\n",
      "\n"
     ]
    }
   ],
   "source": [
    "help(reduce)"
   ]
  },
  {
   "cell_type": "code",
   "execution_count": 22,
   "metadata": {
    "collapsed": false,
    "deletable": true,
    "editable": true,
    "slideshow": {
     "slide_type": "slide"
    }
   },
   "outputs": [
    {
     "data": {
      "text/plain": [
       "['str', 'srj', 'fp']"
      ]
     },
     "execution_count": 22,
     "metadata": {},
     "output_type": "execute_result"
    }
   ],
   "source": [
    "# filter (predicate, list) --> new list\n",
    "filter(lambda x: len(x) <= 3,  [\"str\", \"string\", \"srj\", \"sreeraj\", \"fp\", \"functional programming\"])"
   ]
  },
  {
   "cell_type": "markdown",
   "metadata": {
    "deletable": true,
    "editable": true,
    "slideshow": {
     "slide_type": "slide"
    }
   },
   "source": [
    "# Back to our problem\n",
    "[Revisit](#A-simple-problem) the question, if you forgot\n",
    "\n",
    "How can we solve it in a paralell way, while avoiding mutations?\n",
    "\n",
    "### Think in terms of data transformation, rather than steps\n",
    "\n",
    "file --> [chunk ..] --> [words] --> value\n"
   ]
  },
  {
   "cell_type": "code",
   "execution_count": 23,
   "metadata": {
    "collapsed": false,
    "deletable": true,
    "editable": true,
    "slideshow": {
     "slide_type": "slide"
    }
   },
   "outputs": [],
   "source": [
    "def count_chunk(chunk):\n",
    "    ## chunk is made of lines, lines are made of chunks\n",
    "    words = [word for line in lines for word in line.split()]\n",
    "    return len(words)\n",
    "\n",
    "def count(file):\n",
    "    chunks = make_chunks(file)\n",
    "    reduce(sum, map(count_chunk, file.make_chunks()))"
   ]
  },
  {
   "cell_type": "markdown",
   "metadata": {
    "deletable": true,
    "editable": true,
    "slideshow": {
     "slide_type": "slide"
    }
   },
   "source": [
    "### Note\n",
    "The code in vanilla python is not parallelized. because there is no state change happening in the code, it is possible to replace vanilla map and reduce functions with something like `map_p` and `reduce_p`, which are parallel implementations of map and reduce.\n",
    "\n",
    "This is the core principle behind hadoop [`mapreduce`](http://www.thegeekstuff.com/2014/05/map-reduce-algorithm/) framework, where you think in terms of map and reduce to execute complex data transformations on huge amount of data\n",
    "\n"
   ]
  },
  {
   "cell_type": "code",
   "execution_count": null,
   "metadata": {
    "collapsed": true,
    "deletable": true,
    "editable": true
   },
   "outputs": [],
   "source": []
  }
 ],
 "metadata": {
  "celltoolbar": "Slideshow",
  "kernelspec": {
   "display_name": "Python 2",
   "language": "python",
   "name": "python2"
  },
  "language_info": {
   "codemirror_mode": {
    "name": "ipython",
    "version": 2
   },
   "file_extension": ".py",
   "mimetype": "text/x-python",
   "name": "python",
   "nbconvert_exporter": "python",
   "pygments_lexer": "ipython2",
   "version": "2.7.13"
  }
 },
 "nbformat": 4,
 "nbformat_minor": 2
}
